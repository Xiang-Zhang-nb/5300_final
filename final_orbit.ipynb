{
 "cells": [
  {
   "cell_type": "markdown",
   "metadata": {},
   "source": [
    "# Gravitational orbit using Lagrange's equation\n",
    "\n",
    "use orbit class to generate orbit plots by solving Euler-Lagrange's equation"
   ]
  },
  {
   "cell_type": "markdown",
   "metadata": {},
   "source": [
    "## Euler-Lagrange equation\n",
    "\n",
    "For a two-body system, the Lagrangian with Cartesian coordinates is\n",
    "\n",
    "$\\begin{align}\n",
    "  \\mathcal{L} = \\frac12 m_1 (\\dot x_1 ^2 + \\dot y_1 ^2) + \\frac12 m_1 (\\dot x_2 ^2 + \\dot y_2 ^2)\\\n",
    "  + \\frac{G m_1 m_2} {\\sqrt{(x_1 - x_2)^2 + (y_1 - y_2)^2}}\n",
    "\\end{align}$\n",
    "\n",
    "The Euler-Lagrange equations are\n",
    "\n",
    "$\\begin{align}\n",
    " \\frac{d}{dt}\\frac{\\partial\\mathcal{L}}{\\partial \\dot{x_1}} = \\frac{\\partial\\mathcal L}{\\partial x_1}\n",
    " \\quad\\Longrightarrow\\quad\n",
    " m_1  \\ddot x_1 = \\frac {G m_1 m_2} {\\sqrt{(x_1 - x_2)^2 + (y_1 - y_2)^2}^3} (x_2 - x_1)\n",
    "  \\ \\mbox{or}\\ \\ddot x_1 = \\frac {G m_2} {\\sqrt{(x_1 - x_2)^2 + (y_1 - y_2)^2}^3} (x_2 - x_1)\n",
    "  \\;.\n",
    "\\end{align}$\n",
    "$\\begin{align}\n",
    " \\frac{d}{dt}\\frac{\\partial\\mathcal{L}}{\\partial \\dot{y_1}} = \\frac{\\partial\\mathcal L}{\\partial y_1}\n",
    " \\quad\\Longrightarrow\\quad\n",
    " m_1  \\ddot y_1 = \\frac {G m_1 m_2} {\\sqrt{(x_1 - x_2)^2 + (y_1 - y_2)^2}^3} (y_2 - y_1)\n",
    "  \\ \\mbox{or}\\ \\ddot y_1 = \\frac {G m_2} {\\sqrt{(x_1 - x_2)^2 + (y_1 - y_2)^2}^3} (y_2 - y_1)\n",
    "  \\;.\n",
    "\\end{align}$\n",
    "$\\begin{align}\n",
    " \\frac{d}{dt}\\frac{\\partial\\mathcal{L}}{\\partial \\dot{x_2}} = \\frac{\\partial\\mathcal L}{\\partial x_2}\n",
    " \\quad\\Longrightarrow\\quad\n",
    " m_2  \\ddot x_2 = -\\frac {G m_1 m_2} {\\sqrt{(x_1 - x_2)^2 + (y_1 - y_2)^2}^3} (x_2 - x_1)\n",
    "  \\ \\mbox{or}\\ \\ddot x_2 = -\\frac {G m_1} {\\sqrt{(x_1 - x_2)^2 + (y_1 - y_2)^2}^3} (x_2 - x_1)\n",
    "  \\;.\n",
    "\\end{align}$\n",
    "$\\begin{align}\n",
    " \\frac{d}{dt}\\frac{\\partial\\mathcal{L}}{\\partial \\dot{y_2}} = \\frac{\\partial\\mathcal L}{\\partial y_2}\n",
    " \\quad\\Longrightarrow\\quad\n",
    " m_2  \\ddot y_2 = -\\frac {G m_1 m_2} {\\sqrt{(x_1 - x_2)^2 + (y_1 - y_2)^2}^3} (y_2 - y_1)\n",
    "  \\ \\mbox{or}\\ \\ddot y_2 = -\\frac {G m_1} {\\sqrt{(x_1 - x_2)^2 + (y_1 - y_2)^2}^3} (y_2 - y_1)\n",
    "  \\;.\n",
    "\\end{align}$"
   ]
  },
  {
   "cell_type": "code",
   "execution_count": 1,
   "metadata": {},
   "outputs": [],
   "source": [
    "%matplotlib inline\n",
    "import numpy as np\n",
    "from scipy.integrate import odeint, solve_ivp\n",
    "import matplotlib.pyplot as plt"
   ]
  },
  {
   "cell_type": "markdown",
   "metadata": {},
   "source": [
    "## Pendulum class and utility functions"
   ]
  },
  {
   "cell_type": "code",
   "execution_count": 2,
   "metadata": {},
   "outputs": [],
   "source": [
    "class Orbit():\n",
    "    \"\"\"\n",
    "    Orbit class implements the parameters and Lagrange's equations for \n",
    "     a simple pendulum (no driving or damping).\n",
    "     \n",
    "    Parameters\n",
    "    ----------\n",
    "    m1 : float\n",
    "        mass of first body\n",
    "    m2 : float\n",
    "        mass of second body\n",
    "    g : float\n",
    "        gravitational constant\n",
    "\n",
    "    Methods\n",
    "    -------\n",
    "    dy_dt(t, y)\n",
    "        Returns the right side of the differential equation in vector y, \n",
    "        given time t and the corresponding value of y.\n",
    "    \"\"\"\n",
    "    def __init__(self, m1=1., m2=1., g=1.\n",
    "                ):\n",
    "        self.m1 = m1\n",
    "        self.m2 = m2\n",
    "        self.g = g\n",
    "    \n",
    "    def dy_dt(self, t, y):\n",
    "        \"\"\"\n",
    "        This function returns the right-hand side of the diffeq: \n",
    "        \n",
    "        Parameters\n",
    "        ----------\n",
    "        t : float\n",
    "            time \n",
    "        y : float\n",
    "            A 8-component vector with \n",
    "            y[0] = x_1(t) and y[1] = x_dot_1(t)\n",
    "            y[2] = y_1(t) and y[3] = y_dot_1(t)\n",
    "            y[4] = x_2(t) and y[5] = x_dot_2(t)\n",
    "            y[6] = y_2(t) and y[7] = y_dot_2(t)\n",
    "            \n",
    "            \n",
    "        -------\n",
    "        \n",
    "        \"\"\"\n",
    "        s = np.sqrt((y[0]-y[4])**2+(y[2]-y[6])**2)\n",
    "        return [y[1], self.g *self.m2 * (y[4]-y[0])/s**3,\\\n",
    "                y[3], self.g *self.m2 * (y[6]-y[2])/s**3,\\\n",
    "                y[5], -self.g *self.m1 * (y[4]-y[0])/s**3,\\\n",
    "                y[7], -self.g *self.m1 * (y[6]-y[2])/s**3]\n",
    "    \n",
    "    def solve_ode(self, t_pts, x_1_0, x_1_dot_0, \n",
    "                  y_1_0,y_1_dot_0, x_2_0,x_2_dot_0,\n",
    "                  y_2_0,y_2_dot_0, abserr=1.0e-9, relerr=1.0e-9):\n",
    "        \"\"\"\n",
    "        \n",
    "        Solve the ODE given initial conditions.\n",
    "        Specify smaller abserr and relerr to get more precision.\n",
    "        \n",
    "        \"\"\"\n",
    "        y = [x_1_0, x_1_dot_0,y_1_0, y_1_dot_0, x_2_0,x_2_dot_0,y_2_0,y_2_dot_0] \n",
    "        solution = solve_ivp(self.dy_dt, (t_pts[0], t_pts[-1]), \n",
    "                             y, t_eval=t_pts,method ='RK23', \n",
    "                             atol=abserr, rtol=relerr)\n",
    "        x_1, x_dot_1, y_1, y_dot_1, x_2, x_dot_2, y_2, y_dot_2 = solution.y\n",
    "\n",
    "        return x_1, x_dot_1, y_1, y_dot_1, x_2, x_dot_2, y_2, y_dot_2"
   ]
  },
  {
   "cell_type": "code",
   "execution_count": 3,
   "metadata": {},
   "outputs": [],
   "source": [
    "def plot_y_vs_x(x, y, axis_labels=None, label=None, title=None, \n",
    "                color=None, linestyle=None, semilogy=False, loglog=False,\n",
    "                ax=None):\n",
    "    \"\"\"\n",
    "    Generic plotting function: return a figure axis with a plot of y vs. x,\n",
    "    with line color and style, title, axis labels, and line label\n",
    "    \"\"\"\n",
    "    if ax is None:        # if the axis object doesn't exist, make one\n",
    "        ax = plt.gca()\n",
    "\n",
    "    if (semilogy):\n",
    "        line, = ax.semilogy(x, y, label=label, \n",
    "                            color=color, linestyle=linestyle)\n",
    "    elif (loglog):\n",
    "        line, = ax.loglog(x, y, label=label, \n",
    "                          color=color, linestyle=linestyle)\n",
    "    else:\n",
    "        line, = ax.plot(x, y, label=label, \n",
    "                    color=color, linestyle=linestyle)\n",
    "\n",
    "    if label is not None:    # if a label if passed, show the legend\n",
    "        ax.legend()\n",
    "    if title is not None:    # set a title if one if passed\n",
    "        ax.set_title(title)\n",
    "    if axis_labels is not None:  # set x-axis and y-axis labels if passed  \n",
    "        ax.set_xlabel(axis_labels[0])\n",
    "        ax.set_ylabel(axis_labels[1])\n",
    "\n",
    "    return ax, line"
   ]
  },
  {
   "cell_type": "code",
   "execution_count": 4,
   "metadata": {},
   "outputs": [],
   "source": [
    "def start_stop_indices(t_pts, plot_start, plot_stop):\n",
    "    start_index = (np.fabs(t_pts-plot_start)).argmin()  # index in t_pts array \n",
    "    stop_index = (np.fabs(t_pts-plot_stop)).argmin()  # index in t_pts array \n",
    "    return start_index, stop_index"
   ]
  },
  {
   "cell_type": "markdown",
   "metadata": {},
   "source": [
    "## Make plots of orbit "
   ]
  },
  {
   "cell_type": "code",
   "execution_count": 7,
   "metadata": {},
   "outputs": [
    {
     "data": {
      "text/plain": [
       "<matplotlib.legend.Legend at 0x7f6352993c90>"
      ]
     },
     "execution_count": 7,
     "metadata": {},
     "output_type": "execute_result"
    },
    {
     "data": {
      "image/png": "[encoded data removed]",
      "text/plain": [
       "<Figure size 576x432 with 1 Axes>"
      ]
     },
     "metadata": {
      "needs_background": "light"
     },
     "output_type": "display_data"
    }
   ],
   "source": [
    "# Set the prameter \n",
    "m1 = 1.\n",
    "m2 = 1.\n",
    "g = 10.\n",
    "\n",
    "# Common plotting time (generate the full time then use slices)\n",
    "t_start = 0.\n",
    "t_end = 50.\n",
    "delta_t = 0.001\n",
    "\n",
    "t_pts = np.arange(t_start, t_end+delta_t, delta_t)\n",
    "\n",
    "# Initialize the pendulum\n",
    "p1 = Orbit(m1 = m1,m2 = m2, g = g)\n",
    "\n",
    "# Instantiate inital conditions\n",
    "x_1_0, x_1_dot_0 = 1., -1.\n",
    "y_1_0, y_1_dot_0 = 1., 1.\n",
    "x_2_0,x_2_dot_0 = - (m1/m2) * x_1_0, - (m1/m2) * x_1_dot_0\n",
    "y_2_0,y_2_dot_0 = - (m1/m2) * y_1_0, - (m1/m2) * y_1_dot_0\n",
    "\n",
    "x_1, x_dot_1, y_1, y_dot_1, x_2, x_dot_2, y_2, y_dot_2 = p1.solve_ode(t_pts,x_1_0, x_1_dot_0,y_1_0, y_1_dot_0,\\\n",
    "                                                            x_2_0,x_2_dot_0,y_2_0,y_2_dot_0)\n",
    "\n",
    "# Make the plot\n",
    "fig = plt.figure(figsize =(8,6))\n",
    "ax = fig.add_subplot(1,1,1)\n",
    "ax.set_ylabel('$x$')\n",
    "ax.set_xlabel('$y$')\n",
    "ax.plot(x_1,y_1,'b',label='$M_1$')\n",
    "ax.plot(x_2,y_2,'r',label='$M_2$')\n",
    "\n",
    "ax.legend()"
   ]
  },
  {
   "cell_type": "code",
   "execution_count": null,
   "metadata": {},
   "outputs": [],
   "source": []
  }
 ],
 "metadata": {
  "kernelspec": {
   "display_name": "Python 3.7 (py37)",
   "language": "python",
   "name": "py37"
  },
  "language_info": {
   "codemirror_mode": {
    "name": "ipython",
    "version": 3
   },
   "file_extension": ".py",
   "mimetype": "text/x-python",
   "name": "python",
   "nbconvert_exporter": "python",
   "pygments_lexer": "ipython3",
   "version": "3.7.4"
  }
 },
 "nbformat": 4,
 "nbformat_minor": 4
}
